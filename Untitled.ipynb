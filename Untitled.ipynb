{
 "cells": [
  {
   "cell_type": "code",
   "execution_count": 13,
   "id": "6aff0779",
   "metadata": {},
   "outputs": [],
   "source": [
    "import numpy as np\n",
    "\n",
    "from matplotlib import use\n",
    "use('Qt5Agg')\n",
    "import matplotlib.pyplot as plt\n",
    "plt.rc('font', size=12)\n",
    "\n",
    "from matplotlib.animation import FuncAnimation\n",
    "\n",
    "import pandas as pd\n",
    "\n",
    "import os\n",
    "\n",
    "a0 = 0.5291772109 # Bohr radius (Å)"
   ]
  },
  {
   "cell_type": "code",
   "execution_count": 31,
   "id": "0d970d52",
   "metadata": {},
   "outputs": [],
   "source": [
    "N_H2O = 32\n",
    "L = 9.99 # A\n",
    "\n",
    "# Thermodynamical quantities\n",
    "headers = ['', 'time (ps)', 'ekinc', 'T_ion (K)', 'etot', 'econs', 'econt']\n",
    "evp = pd.read_csv('Output/H2O.evp', names=headers, index_col=0, usecols=[0,1,2,4,5,7,8], \n",
    "                  delim_whitespace=True, comment='#')\n",
    "\n",
    "nstep = evp.shape[0]+1\n",
    "time = np.zeros(nstep)\n",
    "time[1:] = evp['time (ps)'].values * 1000 # fs\n",
    "\n",
    "# POSITIONS\n",
    "poss = np.zeros((nstep, N_H2O*3, 3))\n",
    "with open('packmol/water_box.xyz', 'r') as f:\n",
    "    init_pos = f.readline()\n",
    "    f.readline()\n",
    "    init_pos += f'Lattice=\"{L:.2f} 0.0 0.0 0.0 {L:.2f} 0.0 0.0 0.0 {L:.2f}\"\\n'\n",
    "    for i in range(N_H2O*3):\n",
    "        init_pos_tmp = f.readline()\n",
    "        init_pos += init_pos_tmp\n",
    "        pos = init_pos_tmp.split()\n",
    "        poss[0,i,:] = float(pos[1]), float(pos[2]), float(pos[3])\n",
    "\n",
    "with open('Output/H2O.traj.xyz', 'w') as f_traj:\n",
    "    f_traj.write(init_pos)\n",
    "    \n",
    "    with open('Output/H2O.pos', 'r') as f_pos:\n",
    "        for j in range(1,nstep):\n",
    "            f_pos.readline()\n",
    "            header = init_pos.split('\\n')[0] + '\\n' + init_pos.split('\\n')[1] + '\\n'\n",
    "            f_traj.write(header)\n",
    "            for i in range(N_H2O):\n",
    "                pos_O = f_pos.readline().split()\n",
    "                x, y, z = float(pos_O[0])*a0, float(pos_O[1])*a0, float(pos_O[2])*a0\n",
    "                poss[j,3*i,:] = x, y, z\n",
    "                \n",
    "                f_traj.write(f'  O           {x:9.6f}       {y:9.6f}       {z:9.6f}\\n')\n",
    "                \n",
    "                pos_H = f_pos.readline().split()\n",
    "                x, y, z = float(pos_H[0])*a0, float(pos_H[1])*a0, float(pos_H[2])*a0\n",
    "                poss[j,3*i+1,:] = x, y, z\n",
    "                \n",
    "                f_traj.write(f'  H           {x:9.6f}       {y:9.6f}       {z:9.6f}\\n')\n",
    "                \n",
    "                pos_H = f_pos.readline().split()\n",
    "                x, y, z = float(pos_H[0])*a0, float(pos_H[1])*a0, float(pos_H[2])*a0\n",
    "                poss[j,3*i+2,:] = x, y, z\n",
    "                \n",
    "                f_traj.write(f'  H           {x:9.6f}       {y:9.6f}       {z:9.6f}\\n')\n",
    "                \n",
    "msd = np.zeros((nstep, 2))\n",
    "for k in range(nstep):\n",
    "    msd_O, msd_H = 0, 0\n",
    "    for i in range(N_H2O):\n",
    "        msd[k,0] += np.linalg.norm(poss[k,3*i,:]-poss[0,3*i,:])**2/N_H2O\n",
    "        \n",
    "        msd[k,1] += np.linalg.norm(poss[k,3*i+1,:]-poss[0,3*i+1,:])**2/N_H2O/2\n",
    "        msd[k,1] += np.linalg.norm(poss[k,3*i+2,:]-poss[0,3*i+2,:])**2/N_H2O/2\n",
    "\n",
    "# VELOCITIES\n",
    "vels = np.zeros((nstep, N_H2O*3))\n",
    "with open('Output/H2O.vel', 'r') as f:\n",
    "    for j in range(1,nstep):\n",
    "        f.readline()\n",
    "        for i in range(N_H2O*3):\n",
    "            vel_xyz = f.readline().split()\n",
    "            vels[j,i] = abs(np.mean([float(vel_xyz[k]) for k in range(3)]))\n",
    "\n",
    "# FORCES\n",
    "fors = np.zeros((nstep, N_H2O*3))\n",
    "with open('Output/H2O.for', 'r') as f:\n",
    "    for j in range(1,nstep):\n",
    "        f.readline()\n",
    "        for i in range(N_H2O*3):\n",
    "            for_xyz = f.readline().split()\n",
    "            fors[j,i] = abs(np.mean([float(for_xyz[k]) for k in range(3)])) \n",
    "            \n",
    "plt.close('all')\n",
    "\n",
    "# forces and velocities\n",
    "fig, ax = plt.subplots(1, 2, figsize=(15,6), constrained_layout=True)\n",
    "\n",
    "for i in range(N_H2O*3):\n",
    "    ax[0].plot(time[1:], fors[1:,i], 'D', ms=4., alpha=0.1, c='red')\n",
    "    ax[1].plot(time[1:], vels[1:,i], 'D', ms=4., alpha=0.1, c='blue')\n",
    "\n",
    "ax[0].plot(time[1:], np.mean(fors[1:,:], axis=1), '--', lw=1., c='red')\n",
    "\n",
    "ax[0].set(xlim=(0,None), ylim=(2e-6,1), xlabel=r'$t\\ (fs)$', ylabel=r'$F\\ (a.u.)$', yscale='log')\n",
    "ax[1].set(xlim=(0,None), ylim=(0,None), xlabel=r'$t\\ (fs)$', ylabel=r'$v\\ (a.u.)$')\n",
    "\n",
    "## Thermodynamic\n",
    "fig, ax = plt.subplots(1,2, figsize=(15,6), constrained_layout=True)\n",
    "\n",
    "# temperature\n",
    "ax[0].plot(time[1:], evp['T_ion (K)'], '.-')\n",
    "\n",
    "# energy\n",
    "ax[1].plot(time[1:], evp['etot'], '.-', label='etot')\n",
    "ax[1].plot(time[1:], evp['econs'], '.-', label='econs')\n",
    "ax[1].plot(time[1:], evp['econt'], '.-', label='econt')\n",
    "ax[1].legend(fontsize=12, fancybox=True, shadow=True)\n",
    "\n",
    "ax[0].set(xlim=(0,None), ylim=(0,None), xlabel=r'$t\\ (fs)$', ylabel=r'$T\\ (K)$')\n",
    "ax[1].set(xlim=(0,None), xlabel=r'$t\\ (fs)$', ylabel=r'$E\\ (a.u.)$')\n",
    "\n",
    "## Animation\n",
    "fig = plt.figure(figsize=(15,6), constrained_layout=True)\n",
    "\n",
    "ax_3D = fig.add_subplot(5,2,(1,9), projection='3d')\n",
    "ax_3D.grid(visible=False)\n",
    "\n",
    "ax_msd = fig.add_subplot(5,2,(4,8))\n",
    "\n",
    "lnO, = ax_msd.plot(time[0], msd[0,0], '.-', c='red', label='O')\n",
    "lnH, = ax_msd.plot(time[0], msd[0,1], '.-', c='blue', label='H')\n",
    "ax_msd.legend(fontsize=12, fancybox=True, shadow=True, loc='upper left')\n",
    "ax_msd.set(xlim=(0,time[-1]), ylim=(0,msd[-1,1]), xlabel=r'$t\\ (fs)$', ylabel=r'$msd\\ (A)$')\n",
    "\n",
    "def animate(step):\n",
    "    ax_3D.clear()\n",
    "    ax_3D.set(xlim=(-1,9.99), ylim=(-1,9.99), zlim=(-1,9.99), xticks=[], yticks=[], zticks=[])#, \n",
    "           #title=f\"t = {time[step]:.2f} fs\")\n",
    "    \n",
    "    ax_3D.plot([0,9,9,0,0], [0,0,9,9,0], [0,0,0,0,0], '--', lw=1., c='black')\n",
    "    ax_3D.plot([0,9,9,0,0], [0,0,9,9,0], [9,9,9,9,9], '--', lw=1., c='black')\n",
    "    ax_3D.plot([0,0], [0,0], [0,9], '--', lw=1., c='black')\n",
    "    ax_3D.plot([0,0], [9,9], [0,9], '--', lw=1., c='black')\n",
    "    ax_3D.plot([9,9], [0,0], [0,9], '--', lw=1., c='black')\n",
    "    ax_3D.plot([9,9], [9,9], [0,9], '--', lw=1., c='black')\n",
    "    \n",
    "    for i in range(N_H2O):\n",
    "        ax_3D.plot([poss[step,3*i+1,0], poss[step,3*i,0], poss[step,3*i+2,0]],\n",
    "                         [poss[step,3*i+1,1], poss[step,3*i,1], poss[step,3*i+2,1]],\n",
    "                         [poss[step,3*i+1,2], poss[step,3*i,2], poss[step,3*i+2,2]], \n",
    "                '-', lw=2., c='black')\n",
    "    \n",
    "        ax_3D.plot(poss[step,3*i,0], poss[step,3*i,1], poss[step,3*i,2], '.', c='red', \n",
    "                       ms=15., markeredgecolor='black', markeredgewidth=1.)\n",
    "        ax_3D.plot(poss[step,3*i+1,0], poss[step,3*i+1,1], poss[step,3*i+1,2], '.', c='blue', \n",
    "                        ms=10., markeredgecolor='black', markeredgewidth=.5)\n",
    "        ax_3D.plot(poss[step,3*i+2,0], poss[step,3*i+2,1], poss[step,3*i+2,2], '.', c='blue', \n",
    "                        ms=10., markeredgecolor='black', markeredgewidth=1.)\n",
    "        \n",
    "    lnO.set_data(time[:step+1], msd[:step+1,0])\n",
    "    lnH.set_data(time[:step+1], msd[:step+1,1])\n",
    "\n",
    "anim = FuncAnimation(fig, animate, frames=nstep, repeat=True)\n",
    "\n",
    "plt.show()"
   ]
  },
  {
   "cell_type": "code",
   "execution_count": 20,
   "id": "2c49a804",
   "metadata": {},
   "outputs": [
    {
     "name": "stderr",
     "output_type": "stream",
     "text": [
      "qt.qpa.plugin: Could not load the Qt platform plugin \"wayland\" in \"\" even though it was found.\n"
     ]
    },
    {
     "data": {
      "text/plain": [
       "0"
      ]
     },
     "execution_count": 20,
     "metadata": {},
     "output_type": "execute_result"
    }
   ],
   "source": [
    "os.system('/home/acuoghi/Programs/ovito-3.8.3/bin/ovito Output/H2O.traj.xyz')"
   ]
  },
  {
   "cell_type": "code",
   "execution_count": 22,
   "id": "e3a307c9",
   "metadata": {},
   "outputs": [
    {
     "data": {
      "text/plain": [
       "'          96\\nLattice=\"9.99 0.0 0.0 0.0 9.99 0.0 0.0 0.0 9.99\"  O            7.751381        2.293604        2.291454\\n  H            8.016758        2.067428        3.228692\\n  H            6.836371        1.903359        2.189176\\n  O            5.988705        0.499415        0.764760\\n  H            5.375925        0.452795       -0.024115\\n  H            6.868480        0.174194        0.418027\\n  O            7.209534        3.969352        3.927572\\n  H            7.986938        3.819901        4.538557\\n  H            7.619081        4.301234        3.077795\\n  O            1.990425        3.309886        6.813742\\n  H            2.812019        3.832168        7.042217\\n  H            2.282209        2.690112        6.085224\\n  O            2.488137        2.509523        3.625134\\n  H            2.176059        3.232538        3.008813\\n  H            3.303506        2.888320        4.062949\\n  O            7.577946        7.560213       -0.008138\\n  H            7.993282        7.982261        0.797696\\n  H            6.623606        7.857858        0.017095\\n  O            0.457155        0.872078        4.255570\\n  H            1.405162        0.721213        4.535781\\n  H           -0.001644        0.004393        4.446937\\n  O            7.390554        8.010443        7.287207\\n  H            7.067243        7.470531        6.510059\\n  H            6.648876        7.956085        7.955753\\n  O            0.037013        4.139408        5.002932\\n  H            0.276853        3.228606        4.666909\\n  H            0.190840        4.743370        4.220908\\n  O            0.372347        0.043530        7.989546\\n  H            0.045931        0.086225        7.045287\\n  H            1.368255        0.003281        7.908656\\n  O            5.974653        3.529030        6.411302\\n  H            6.484699        2.885841        5.840201\\n  H            6.231083        3.290118        7.347870\\n  O            4.913132        7.967344        1.554364\\n  H            4.384465        7.279889        2.052271\\n  H            5.797079        7.990094        2.021391\\n  O            2.576654        7.429196        5.110781\\n  H            2.207284        8.031803        4.403373\\n  H            2.643915        8.008484        5.923122\\n  O            6.425612        3.332275       -0.021443\\n  H            5.738285        3.030393        0.639197\\n  H            7.259399        2.849499        0.246366\\n  O            8.042024        5.629209        7.195337\\n  H            7.933559        4.635143        7.203382\\n  H            7.528673        5.943597        7.993852\\n  O           -0.003326        1.978876        2.039314\\n  H            0.920496        1.616259        2.162023\\n  H            0.099101        2.967543        2.149052\\n  O            5.361246        5.201655        7.986545\\n  H            5.366582        6.199447        8.052709\\n  H            4.654432        4.999413        7.308675\\n  O            3.038063        3.268818        0.041348\\n  H            3.585674        2.432323        0.021469\\n  H            3.709603        4.008740        0.002031\\n  O            2.096862        5.840649        0.361184\\n  H            1.202334        6.193387        0.086612\\n  H            1.895421        4.971599        0.813034\\n  O            2.464574        5.945780        7.696622\\n  H            2.838604        6.012872        6.771638\\n  H            2.388618        6.893873        8.005403\\n  O            7.978401        0.977341        7.902483\\n  H            7.962800        1.973430        7.989423\\n  H            7.285064        0.775458        7.210729\\n  O            6.754504        5.879615        1.086059\\n  H            6.283261        5.032330        1.331075\\n  H            7.723920        5.634272        1.080089\\n  O            0.056020        2.793234       -0.017896\\n  H            0.995707        2.512538        0.177536\\n  H            0.075443        3.791314        0.040885\\n  O           -0.060203        5.343914        7.995688\\n  H            0.379454        6.241959        8.010244\\n  H            0.693344        4.698147        7.872611\\n  O            6.979969        6.864633        3.468548\\n  H            6.482045        6.052428        3.772504\\n  H            7.833858        6.507717        3.089760\\n  O            2.425936        7.963265       -0.017159\\n  H            2.163060        7.958408        0.947655\\n  H            3.397288        7.725661       -0.013248\\n  O            1.743913        0.471040        0.443354\\n  H            0.839746        0.044433        0.421380\\n  H            2.217060        0.016364        1.197939\\n  O            4.280785        1.692701        7.989761\\n  H            5.192883        1.284701        7.949652\\n  H            3.671223        0.977355        7.648132\\n  O            0.018478        7.310621        1.627034\\n  H            0.098793        7.995313        2.351425\\n  H           -0.009087        7.843135        0.781065\\n  O            4.863046        7.983951        6.731670\\n  H            4.213734        7.990966        7.492157\\n  H            4.651532        7.145436        6.229525\\n  O            0.798002        6.596986        5.909614\\n  H            0.556104        7.567075        5.929793\\n  H           -0.080270        6.120730        5.867028\\n  O            6.874337        0.263384        3.556083\\n  H            6.489769        0.006618        4.442748\\n  H            6.172143        0.002599        2.893579\\n'"
      ]
     },
     "execution_count": 22,
     "metadata": {},
     "output_type": "execute_result"
    }
   ],
   "source": [
    "init_pos"
   ]
  },
  {
   "cell_type": "code",
   "execution_count": 30,
   "id": "036ec092",
   "metadata": {},
   "outputs": [
    {
     "name": "stdout",
     "output_type": "stream",
     "text": [
      "          96\n",
      "Lattice=\"9.99 0.0 0.0 0.0 9.99 0.0 0.0 0.0 9.99\"\n",
      "\n"
     ]
    }
   ],
   "source": [
    "print()"
   ]
  },
  {
   "cell_type": "code",
   "execution_count": null,
   "id": "45c5e399",
   "metadata": {},
   "outputs": [],
   "source": []
  }
 ],
 "metadata": {
  "kernelspec": {
   "display_name": "IntelPython",
   "language": "python",
   "name": "intelpython"
  },
  "language_info": {
   "codemirror_mode": {
    "name": "ipython",
    "version": 3
   },
   "file_extension": ".py",
   "mimetype": "text/x-python",
   "name": "python",
   "nbconvert_exporter": "python",
   "pygments_lexer": "ipython3",
   "version": "3.10.8"
  }
 },
 "nbformat": 4,
 "nbformat_minor": 5
}
