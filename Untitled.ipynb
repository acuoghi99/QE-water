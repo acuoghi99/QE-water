{
 "cells": [
  {
   "cell_type": "code",
   "execution_count": 1,
   "id": "9eebe476",
   "metadata": {},
   "outputs": [],
   "source": [
    "import numpy as np\n",
    "\n",
    "import matplotlib.pyplot as plt\n",
    "%matplotlib qt5\n",
    "plt.rc('font', size=16)\n",
    "\n",
    "from matplotlib.animation import FuncAnimation\n",
    "\n",
    "import py3Dmol"
   ]
  },
  {
   "cell_type": "code",
   "execution_count": 2,
   "id": "7e1b2a1a",
   "metadata": {},
   "outputs": [],
   "source": [
    "N_H2O = 32\n",
    "nstep_max = 100\n",
    "\n",
    "time = np.zeros(nstep_max)\n",
    "\n",
    "vels = np.zeros((nstep_max, N_H2O*3))\n",
    "with open('Output/H2O.vel', 'r') as f:\n",
    "    for j in range(nstep_max):\n",
    "        try:\n",
    "            time[j] = float(f.readline().split()[1])\n",
    "            for i in range(N_H2O*3):\n",
    "                vel_xyz = f.readline().split()\n",
    "                vels[j,i] = abs(np.mean([float(vel_xyz[k]) for k in range(3)]))\n",
    "        except:\n",
    "            time[j] = np.nan\n",
    "\n",
    "fors = np.zeros((nstep_max, N_H2O*3))\n",
    "with open('Output/H2O.for', 'r') as f:\n",
    "    for j in range(nstep_max):\n",
    "        try:\n",
    "            time[j] = float(f.readline().split()[1])\n",
    "            for i in range(N_H2O*3):\n",
    "                for_xyz = f.readline().split()\n",
    "                fors[j,i] = abs(np.mean([float(for_xyz[k]) for k in range(3)]))\n",
    "        except:\n",
    "            time[j] = np.nan   \n",
    "            \n",
    "poss = np.zeros((nstep_max, N_H2O*3, 3))\n",
    "with open('Output/H2O.pos', 'r') as f:\n",
    "    for j in range(nstep_max):\n",
    "        try:\n",
    "            time[j] = float(f.readline().split()[1])\n",
    "            for i in range(N_H2O*3):\n",
    "                pos_xyz = f.readline().split()\n",
    "                poss[j,i,:] = [float(pos_xyz[k])*0.5291 for k in range(3)]\n",
    "        except:\n",
    "            time[j] = np.nan"
   ]
  },
  {
   "cell_type": "code",
   "execution_count": 3,
   "id": "b98fc8b0",
   "metadata": {},
   "outputs": [
    {
     "ename": "IndexError",
     "evalue": "index 222 is out of bounds for axis 1 with size 96",
     "output_type": "error",
     "traceback": [
      "\u001b[0;31m---------------------------------------------------------------------------\u001b[0m",
      "\u001b[0;31mIndexError\u001b[0m                                Traceback (most recent call last)",
      "Input \u001b[0;32mIn [3]\u001b[0m, in \u001b[0;36m<cell line: 6>\u001b[0;34m()\u001b[0m\n\u001b[1;32m      3\u001b[0m step \u001b[38;5;241m=\u001b[39m \u001b[38;5;241m0\u001b[39m\n\u001b[1;32m      4\u001b[0m ax\u001b[38;5;241m.\u001b[39mset(xlim\u001b[38;5;241m=\u001b[39m(\u001b[38;5;241m-\u001b[39m\u001b[38;5;241m1\u001b[39m,\u001b[38;5;241m10\u001b[39m), ylim\u001b[38;5;241m=\u001b[39m(\u001b[38;5;241m-\u001b[39m\u001b[38;5;241m1\u001b[39m,\u001b[38;5;241m10\u001b[39m), zlim\u001b[38;5;241m=\u001b[39m(\u001b[38;5;241m-\u001b[39m\u001b[38;5;241m1\u001b[39m,\u001b[38;5;241m10\u001b[39m), xticks\u001b[38;5;241m=\u001b[39m[], yticks\u001b[38;5;241m=\u001b[39m[], zticks\u001b[38;5;241m=\u001b[39m[])\n\u001b[0;32m----> 6\u001b[0m bonds, \u001b[38;5;241m=\u001b[39m ax\u001b[38;5;241m.\u001b[39mplot([\u001b[43mposs\u001b[49m\u001b[43m[\u001b[49m\u001b[43mstep\u001b[49m\u001b[43m,\u001b[49m\u001b[38;5;241;43m2\u001b[39;49m\u001b[38;5;241;43m*\u001b[39;49m\u001b[43mi\u001b[49m\u001b[38;5;241;43m+\u001b[39;49m\u001b[38;5;241;43m32\u001b[39;49m\u001b[43m,\u001b[49m\u001b[38;5;241;43m0\u001b[39;49m\u001b[43m]\u001b[49m, poss[step,i,\u001b[38;5;241m0\u001b[39m], poss[step,\u001b[38;5;241m2\u001b[39m\u001b[38;5;241m*\u001b[39mi\u001b[38;5;241m+\u001b[39m\u001b[38;5;241m33\u001b[39m,\u001b[38;5;241m0\u001b[39m]],\n\u001b[1;32m      7\u001b[0m                          [poss[step,\u001b[38;5;241m2\u001b[39m\u001b[38;5;241m*\u001b[39mi\u001b[38;5;241m+\u001b[39m\u001b[38;5;241m32\u001b[39m,\u001b[38;5;241m1\u001b[39m], poss[step,i,\u001b[38;5;241m1\u001b[39m], poss[step,\u001b[38;5;241m2\u001b[39m\u001b[38;5;241m*\u001b[39mi\u001b[38;5;241m+\u001b[39m\u001b[38;5;241m33\u001b[39m,\u001b[38;5;241m1\u001b[39m]],\n\u001b[1;32m      8\u001b[0m                          [poss[step,\u001b[38;5;241m2\u001b[39m\u001b[38;5;241m*\u001b[39mi\u001b[38;5;241m+\u001b[39m\u001b[38;5;241m32\u001b[39m,\u001b[38;5;241m2\u001b[39m], poss[step,i,\u001b[38;5;241m2\u001b[39m], poss[step,\u001b[38;5;241m2\u001b[39m\u001b[38;5;241m*\u001b[39mi\u001b[38;5;241m+\u001b[39m\u001b[38;5;241m33\u001b[39m,\u001b[38;5;241m2\u001b[39m]], \u001b[38;5;124m'\u001b[39m\u001b[38;5;124m-\u001b[39m\u001b[38;5;124m'\u001b[39m, lw\u001b[38;5;241m=\u001b[39m\u001b[38;5;241m0.5\u001b[39m, c\u001b[38;5;241m=\u001b[39m\u001b[38;5;124m'\u001b[39m\u001b[38;5;124mblack\u001b[39m\u001b[38;5;124m'\u001b[39m)\n\u001b[1;32m     10\u001b[0m r_O, \u001b[38;5;241m=\u001b[39m ax\u001b[38;5;241m.\u001b[39mplot(poss[step,i,\u001b[38;5;241m0\u001b[39m], poss[step,i,\u001b[38;5;241m1\u001b[39m], poss[step,i,\u001b[38;5;241m2\u001b[39m], \u001b[38;5;124m'\u001b[39m\u001b[38;5;124m.\u001b[39m\u001b[38;5;124m'\u001b[39m, c\u001b[38;5;241m=\u001b[39m\u001b[38;5;124m'\u001b[39m\u001b[38;5;124mred\u001b[39m\u001b[38;5;124m'\u001b[39m, \n\u001b[1;32m     11\u001b[0m         ms\u001b[38;5;241m=\u001b[39m\u001b[38;5;241m8.\u001b[39m, markeredgecolor\u001b[38;5;241m=\u001b[39m\u001b[38;5;124m'\u001b[39m\u001b[38;5;124mblack\u001b[39m\u001b[38;5;124m'\u001b[39m, markeredgewidth\u001b[38;5;241m=\u001b[39m\u001b[38;5;241m.25\u001b[39m)\n\u001b[1;32m     12\u001b[0m r_H1, \u001b[38;5;241m=\u001b[39m ax\u001b[38;5;241m.\u001b[39mplot(poss[step,\u001b[38;5;241m2\u001b[39m\u001b[38;5;241m*\u001b[39mi\u001b[38;5;241m+\u001b[39m\u001b[38;5;241m32\u001b[39m,\u001b[38;5;241m0\u001b[39m], poss[step,\u001b[38;5;241m2\u001b[39m\u001b[38;5;241m*\u001b[39mi\u001b[38;5;241m+\u001b[39m\u001b[38;5;241m32\u001b[39m,\u001b[38;5;241m1\u001b[39m], poss[step,\u001b[38;5;241m2\u001b[39m\u001b[38;5;241m*\u001b[39mi\u001b[38;5;241m+\u001b[39m\u001b[38;5;241m32\u001b[39m,\u001b[38;5;241m2\u001b[39m], \u001b[38;5;124m'\u001b[39m\u001b[38;5;124m.\u001b[39m\u001b[38;5;124m'\u001b[39m, c\u001b[38;5;241m=\u001b[39m\u001b[38;5;124m'\u001b[39m\u001b[38;5;124mblue\u001b[39m\u001b[38;5;124m'\u001b[39m, \n\u001b[1;32m     13\u001b[0m         ms\u001b[38;5;241m=\u001b[39m\u001b[38;5;241m4.\u001b[39m, markeredgecolor\u001b[38;5;241m=\u001b[39m\u001b[38;5;124m'\u001b[39m\u001b[38;5;124mblack\u001b[39m\u001b[38;5;124m'\u001b[39m, markeredgewidth\u001b[38;5;241m=\u001b[39m\u001b[38;5;241m.25\u001b[39m)\n",
      "\u001b[0;31mIndexError\u001b[0m: index 222 is out of bounds for axis 1 with size 96"
     ]
    }
   ],
   "source": [
    "fig, ax = plt.subplots(figsize=(10,10), constrained_layout=True, subplot_kw={'projection':'3d'})\n",
    "\n",
    "step = 0\n",
    "ax.set(xlim=(-1,10), ylim=(-1,10), zlim=(-1,10), xticks=[], yticks=[], zticks=[])\n",
    "\n",
    "bonds, = ax.plot([poss[step,2*i+32,0], poss[step,i,0], poss[step,2*i+33,0]],\n",
    "                         [poss[step,2*i+32,1], poss[step,i,1], poss[step,2*i+33,1]],\n",
    "                         [poss[step,2*i+32,2], poss[step,i,2], poss[step,2*i+33,2]], '-', lw=0.5, c='black')\n",
    "\n",
    "r_O, = ax.plot(poss[step,i,0], poss[step,i,1], poss[step,i,2], '.', c='red', \n",
    "        ms=8., markeredgecolor='black', markeredgewidth=.25)\n",
    "r_H1, = ax.plot(poss[step,2*i+32,0], poss[step,2*i+32,1], poss[step,2*i+32,2], '.', c='blue', \n",
    "        ms=4., markeredgecolor='black', markeredgewidth=.25)\n",
    "r_H2, = ax.plot(poss[step,2*i+33,0], poss[step,2*i+33,1], poss[step,2*i+33,2], '.', c='blue', \n",
    "        ms=4., markeredgecolor='black', markeredgewidth=.25)\n",
    "\n",
    "\n",
    "def animate(step):\n",
    "    for i in range(N_H2O):\n",
    "        bonds.set_data_3d([poss[step,2*i+32,0], poss[step,i,0], poss[step,2*i+33,0]],\n",
    "                         [poss[step,2*i+32,1], poss[step,i,1], poss[step,2*i+33,1]],\n",
    "                         [poss[step,2*i+32,2], poss[step,i,2], poss[step,2*i+33,2]])\n",
    "\n",
    "        r_O.set_data_3d(poss[step,i,0], poss[step,i,1], poss[step,i,2])\n",
    "        r_H1.set_data_3d(poss[step,2*i+32,0], poss[step,2*i+32,1], poss[step,2*i+32,2])\n",
    "        r_H2.set_data_3d(poss[step,2*i+33,0], poss[step,2*i+33,1], poss[step,2*i+33,2])\n",
    "        \n",
    "    return bonds, r_O, r_H1, r_H2\n",
    "\n",
    "ax.grid(visible=False)\n",
    "\n",
    "anim = FuncAnimation(fig, animate, frames=20, blit=True)\n",
    "plt.show()"
   ]
  },
  {
   "cell_type": "code",
   "execution_count": null,
   "id": "bec50f1a",
   "metadata": {},
   "outputs": [],
   "source": [
    "fig, ax = plt.subplots(1, 2, figsize=(18,7), constrained_layout=True)\n",
    "\n",
    "for i in range(N_H2O*3):\n",
    "    ax[0].plot(time, fors[:,i], 'D', ms=4., alpha=0.1, c='red')\n",
    "    ax[1].plot(time, vels[:,i], 'D', ms=4., alpha=0.1, c='blue')\n",
    "\n",
    "ax[0].plot(time, np.mean(fors[:,:], axis=1), '--', lw=1., c='red')\n",
    "\n",
    "ax[0].set(xlim=(0,None), ylim=(2e-6,1), xlabel=r'$t\\ (ps)$', ylabel=r'$F\\ (E_H/a_0)$', yscale='log')\n",
    "ax[1].set(xlim=(0,None), ylim=(0,None), xlabel=r'$t\\ (ps)$', ylabel=r'$v\\ (a_0E_H/\\hbar)$')\n",
    "\n",
    "plt.show()"
   ]
  }
 ],
 "metadata": {
  "kernelspec": {
   "display_name": "Python 3 (ipykernel)",
   "language": "python",
   "name": "python3"
  },
  "language_info": {
   "codemirror_mode": {
    "name": "ipython",
    "version": 3
   },
   "file_extension": ".py",
   "mimetype": "text/x-python",
   "name": "python",
   "nbconvert_exporter": "python",
   "pygments_lexer": "ipython3",
   "version": "3.10.9"
  }
 },
 "nbformat": 4,
 "nbformat_minor": 5
}
