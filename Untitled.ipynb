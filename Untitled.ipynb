{
 "cells": [
  {
   "cell_type": "code",
   "execution_count": 2,
   "id": "9eebe476",
   "metadata": {},
   "outputs": [],
   "source": [
    "import numpy as np\n",
    "\n",
    "import matplotlib.pyplot as plt\n",
    "%matplotlib qt5\n",
    "plt.rc('font', size=16)\n",
    "\n",
    "import py3Dmol"
   ]
  },
  {
   "cell_type": "code",
   "execution_count": null,
   "id": "7e1b2a1a",
   "metadata": {},
   "outputs": [],
   "source": [
    "N_H2O = 32\n",
    "nstep_max = 100\n",
    "\n",
    "time = np.zeros(nstep_max)\n",
    "\n",
    "vels = np.zeros((nstep_max, N_H2O*3))\n",
    "with open('Output/H2O.vel', 'r') as f:\n",
    "    for j in range(nstep_max):\n",
    "        try:\n",
    "            time[j] = float(f.readline().split()[1])\n",
    "            for i in range(N_H2O*3):\n",
    "                vel_xyz = f.readline().split()\n",
    "                vels[j,i] = abs(np.mean([float(vel_xyz[k]) for k in range(3)]))\n",
    "        except:\n",
    "            time[j] = np.nan\n",
    "\n",
    "fors = np.zeros((nstep_max, N_H2O*3))\n",
    "with open('Output/H2O.for', 'r') as f:\n",
    "    for j in range(nstep_max):\n",
    "        try:\n",
    "            time[j] = float(f.readline().split()[1])\n",
    "            for i in range(N_H2O*3):\n",
    "                for_xyz = f.readline().split()\n",
    "                fors[j,i] = abs(np.mean([float(for_xyz[k]) for k in range(3)]))\n",
    "        except:\n",
    "            time[j] = np.nan         "
   ]
  },
  {
   "cell_type": "code",
   "execution_count": null,
   "id": "bec50f1a",
   "metadata": {},
   "outputs": [],
   "source": [
    "fig, ax = plt.subplots(1, 2, figsize=(18,7), constrained_layout=True)\n",
    "\n",
    "for i in range(N_H2O*3):\n",
    "    ax[0].plot(time, fors[:,i], 'D', ms=4., alpha=0.1, c='red')\n",
    "    ax[1].plot(time, vels[:,i], 'D', ms=4., alpha=0.1, c='blue')\n",
    "\n",
    "ax[0].plot(time, np.mean(fors[:,:], axis=1), '--', lw=1., c='red')\n",
    "\n",
    "ax[0].set(xlim=(0,None), ylim=(2e-6,1), xlabel=r'$t\\ (ps)$', ylabel=r'$F\\ (E_H/a_0)$', yscale='log')\n",
    "ax[1].set(xlim=(0,None), ylim=(0,None), xlabel=r'$t\\ (ps)$', ylabel=r'$v\\ (a_0E_H/\\hbar)$')\n",
    "\n",
    "plt.show()"
   ]
  },
  {
   "cell_type": "code",
   "execution_count": null,
   "id": "c7689a27",
   "metadata": {},
   "outputs": [],
   "source": [
    "def show_system(xyz_file, L):\n",
    "    p = py3Dmol.view(width=500,height=300)\n",
    "    with open(xyz_file, 'r') as f:\n",
    "        p.addModel(f.read(), 'xyz')\n",
    "    p.setStyle({'sphere': {'radius':L/50}, 'stick':{'radius':L/100}})\n",
    "    p.addLine({'start':{'x':0,'y':0,'z':0}, 'end':{'x':L,'y':0,'z':0}})\n",
    "    p.addLine({'start':{'x':L,'y':0,'z':0}, 'end':{'x':L,'y':L,'z':0}})\n",
    "    p.addLine({'start':{'x':L,'y':L,'z':0}, 'end':{'x':0,'y':L,'z':0}})\n",
    "    p.addLine({'start':{'x':0,'y':L,'z':0}, 'end':{'x':0,'y':0,'z':0}})\n",
    "    p.addLine({'start':{'x':0,'y':0,'z':0}, 'end':{'x':0,'y':0,'z':L}})\n",
    "    p.addLine({'start':{'x':0,'y':0,'z':L}, 'end':{'x':L,'y':0,'z':L}})\n",
    "    p.addLine({'start':{'x':L,'y':0,'z':L}, 'end':{'x':L,'y':0,'z':0}})\n",
    "    p.addLine({'start':{'x':L,'y':0,'z':L}, 'end':{'x':L,'y':L,'z':L}})\n",
    "    p.addLine({'start':{'x':L,'y':L,'z':L}, 'end':{'x':L,'y':L,'z':0}})\n",
    "    p.addLine({'start':{'x':0,'y':0,'z':L}, 'end':{'x':0,'y':L,'z':L}})\n",
    "    p.addLine({'start':{'x':0,'y':L,'z':L}, 'end':{'x':0,'y':L,'z':0}})\n",
    "    p.addLine({'start':{'x':0,'y':L,'z':L}, 'end':{'x':L,'y':L,'z':L}})\n",
    "    p.zoomTo()\n",
    "    p.show()\n",
    "    \n",
    "    print(type(p.png()))\n",
    "    \n",
    "    return p"
   ]
  },
  {
   "cell_type": "code",
   "execution_count": 18,
   "id": "dc8183f3",
   "metadata": {
    "scrolled": true
   },
   "outputs": [
    {
     "data": {
      "application/3dmoljs_load.v0": "<div id=\"3dmolviewer_16807969992109835\"  style=\"position: relative; width: 500px; height: 300px\">\n        <p id=\"3dmolwarning_16807969992109835\" style=\"background-color:#ffcccc;color:black\">You appear to be running in JupyterLab (or JavaScript failed to load for some other reason).  You need to install the 3dmol extension: <br>\n        <tt>jupyter labextension install jupyterlab_3dmol</tt></p>\n        </div>\n<script>\n\nvar loadScriptAsync = function(uri){\n  return new Promise((resolve, reject) => {\n    //this is to ignore the existence of requirejs amd\n    var savedexports, savedmodule;\n    if (typeof exports !== 'undefined') savedexports = exports;\n    else exports = {}\n    if (typeof module !== 'undefined') savedmodule = module;\n    else module = {}\n\n    var tag = document.createElement('script');\n    tag.src = uri;\n    tag.async = true;\n    tag.onload = () => {\n        exports = savedexports;\n        module = savedmodule;\n        resolve();\n    };\n  var firstScriptTag = document.getElementsByTagName('script')[0];\n  firstScriptTag.parentNode.insertBefore(tag, firstScriptTag);\n});\n};\n\nif(typeof $3Dmolpromise === 'undefined') {\n$3Dmolpromise = null;\n  $3Dmolpromise = loadScriptAsync('https://cdnjs.cloudflare.com/ajax/libs/3Dmol/2.0.1/3Dmol-min.js');\n}\n\nvar viewer_16807969992109835 = null;\nvar warn = document.getElementById(\"3dmolwarning_16807969992109835\");\nif(warn) {\n    warn.parentNode.removeChild(warn);\n}\n$3Dmolpromise.then(function() {\nviewer_16807969992109835 = $3Dmol.createViewer(document.getElementById(\"3dmolviewer_16807969992109835\"),{backgroundColor:\"white\"});\nviewer_16807969992109835.zoomTo();\n\tviewer_16807969992109835.addLine({\"start\": {\"x\": 0, \"y\": 0, \"z\": 0}, \"end\": {\"x\": 10, \"y\": 0, \"z\": 0}});\n\tviewer_16807969992109835.addLine({\"start\": {\"x\": 10, \"y\": 0, \"z\": 0}, \"end\": {\"x\": 10, \"y\": 10, \"z\": 0}});\n\tviewer_16807969992109835.addLine({\"start\": {\"x\": 10, \"y\": 10, \"z\": 0}, \"end\": {\"x\": 0, \"y\": 10, \"z\": 0}});\n\tviewer_16807969992109835.addLine({\"start\": {\"x\": 0, \"y\": 10, \"z\": 0}, \"end\": {\"x\": 0, \"y\": 0, \"z\": 0}});\n\tviewer_16807969992109835.addLine({\"start\": {\"x\": 0, \"y\": 0, \"z\": 0}, \"end\": {\"x\": 0, \"y\": 0, \"z\": 10}});\n\tviewer_16807969992109835.addLine({\"start\": {\"x\": 0, \"y\": 0, \"z\": 10}, \"end\": {\"x\": 10, \"y\": 0, \"z\": 10}});\n\tviewer_16807969992109835.addLine({\"start\": {\"x\": 10, \"y\": 0, \"z\": 10}, \"end\": {\"x\": 10, \"y\": 0, \"z\": 0}});\n\tviewer_16807969992109835.addLine({\"start\": {\"x\": 10, \"y\": 0, \"z\": 10}, \"end\": {\"x\": 10, \"y\": 10, \"z\": 10}});\n\tviewer_16807969992109835.addLine({\"start\": {\"x\": 10, \"y\": 10, \"z\": 10}, \"end\": {\"x\": 10, \"y\": 10, \"z\": 0}});\n\tviewer_16807969992109835.addLine({\"start\": {\"x\": 0, \"y\": 0, \"z\": 10}, \"end\": {\"x\": 0, \"y\": 10, \"z\": 10}});\n\tviewer_16807969992109835.addLine({\"start\": {\"x\": 0, \"y\": 10, \"z\": 10}, \"end\": {\"x\": 0, \"y\": 10, \"z\": 0}});\n\tviewer_16807969992109835.addLine({\"start\": {\"x\": 0, \"y\": 10, \"z\": 10}, \"end\": {\"x\": 10, \"y\": 10, \"z\": 10}});\n\tviewer_16807969992109835.addModel(\"96\\n\\nO    7.4419    2.2936    1.9887\\nO    5.9901    0.5123    0.7406\\nO    7.2249    4.2803    4.2412\\nO    2.0639    3.1562    6.9106\\nO    2.7616    2.6268    3.7575\\nO    7.7175    8.2105    -0.1175\\nO    0.4603    0.5458    4.6713\\nO    7.6839    8.4943    7.0008\\nO    -0.1573    4.0313    4.8043\\nO    0.5506    -0.1249    7.9650\\nO    5.8997    3.2040    6.2898\\nO    4.7905    7.8344    1.7281\\nO    3.2009    7.8412    4.6991\\nO    6.4996    3.1673    -0.1563\\nO    7.5340    5.6829    6.6707\\nO    0.3057    1.9357    2.3204\\nO    5.1264    5.2924    8.3600\\nO    3.3254    3.2540    0.1028\\nO    1.9304    5.2818    0.7068\\nO    2.9114    6.2091    7.5036\\nO    7.7763    0.9972    7.9489\\nO    6.6317    5.2565    1.1557\\nO    -0.0514    3.0531    -0.5778\\nO    0.5087    5.0705    8.6680\\nO    6.9848    7.0451    3.7586\\nO    2.7028    8.3242    -0.2084\\nO    1.8264    0.7503    0.4743\\nO    4.2699    1.4921    8.0857\\nO    -0.0828    7.5048    1.7200\\nO    4.5564    8.0738    6.9035\\nO    -0.1258    6.5490    5.9052\\nO    6.6623    -0.0095    3.7528\\nH    8.3959    2.0870    1.7399\\nH    6.9375    1.4720    2.1884\\nH    5.5857    -0.3782    0.9961\\nH    6.4159    0.3555    -0.1611\\nH    8.2143    4.3604    4.1216\\nH    6.9531    3.8604    3.3544\\nH    2.8864    2.5835    6.7996\\nH    2.0550    3.7106    6.0818\\nH    2.1286    2.5691    2.9612\\nH    3.6438    2.4701    3.3190\\nH    7.9480    7.8134    0.7753\\nH    6.7345    7.9867    -0.1862\\nH    1.4307    0.7684    4.7818\\nH    0.2508    0.1304    5.5557\\nH    7.3544    7.6389    6.5461\\nH    6.8993    8.9413    7.3468\\nH    0.0308    3.3265    4.1052\\nH    0.6958    4.5158    4.8945\\nH    -0.2853    -0.0969    8.5548\\nH    0.6180    0.8338    7.6701\\nH    6.3675    3.7432    5.5499\\nH    6.3278    3.4548    7.1669\\nH    4.0319    7.1995    1.6707\\nH    5.4044    7.4358    2.4223\\nH    2.9888    7.4067    3.8306\\nH    3.5339    8.7527    4.4515\\nH    5.6791    2.6575    -0.4049\\nH    6.7301    2.7553    0.7107\\nH    7.1646    4.9199    6.1831\\nH    8.0884    5.2977    7.3954\\nH    0.1828    1.1055    2.9201\\nH    0.1570    1.8658    1.3189\\nH    5.1373    6.2784    8.4058\\nH    5.2876    5.1230    7.3924\\nH    2.6845    2.4724    0.1260\\nH    3.8457    3.0396    -0.7350\\nH    1.1731    4.6520    0.5152\\nH    2.6717    4.6736    0.9808\\nH    2.1336    6.8352    7.6840\\nH    2.6614    5.4151    8.0442\\nH    7.7990    1.9534    7.6913\\nH    8.2262    0.5265    7.1792\\nH    6.1009    4.5304    0.7601\\nH    7.3348    5.2071    0.4637\\nH    0.5473    2.4091    -1.0480\\nH    -0.5190    3.5311    -1.3286\\nH    -0.0988    5.8216    8.4569\\nH    0.8725    4.6821    7.8138\\nH    6.6869    6.1038    3.8855\\nH    7.3423    7.0152    2.8342\\nH    2.5670    7.3168    -0.1091\\nH    3.5568    8.4678    0.2986\\nH    1.1309    0.8813    -0.2272\\nH    2.1883    -0.1433    0.2027\\nH    4.6396    2.0128    7.2955\\nH    4.2518    0.5195    7.8479\\nH    0.0436    8.4239    2.0913\\nH    0.3625    7.6582    0.8220\\nH    3.9102    7.3260    6.6955\\nH    5.1290    8.1890    6.0948\\nH    -0.2338    7.4921    6.1514\\nH    -0.7887    6.4034    5.1706\\nH    7.1247    -0.8631    4.0010\\nH    6.5373    -0.0947    2.7599\\n\",\"xyz\");\n\tviewer_16807969992109835.setStyle({\"sphere\": {\"radius\": 0.2}, \"stick\": {\"radius\": 0.1}});\n\tviewer_16807969992109835.zoomTo();\n\tviewer_16807969992109835.animate({\"loop\": \"forward\"});\n\tviewer_16807969992109835.render();\nviewer_16807969992109835.render();\n});\n</script>",
      "text/html": [
       "<div id=\"3dmolviewer_16807969992109835\"  style=\"position: relative; width: 500px; height: 300px\">\n",
       "        <p id=\"3dmolwarning_16807969992109835\" style=\"background-color:#ffcccc;color:black\">You appear to be running in JupyterLab (or JavaScript failed to load for some other reason).  You need to install the 3dmol extension: <br>\n",
       "        <tt>jupyter labextension install jupyterlab_3dmol</tt></p>\n",
       "        </div>\n",
       "<script>\n",
       "\n",
       "var loadScriptAsync = function(uri){\n",
       "  return new Promise((resolve, reject) => {\n",
       "    //this is to ignore the existence of requirejs amd\n",
       "    var savedexports, savedmodule;\n",
       "    if (typeof exports !== 'undefined') savedexports = exports;\n",
       "    else exports = {}\n",
       "    if (typeof module !== 'undefined') savedmodule = module;\n",
       "    else module = {}\n",
       "\n",
       "    var tag = document.createElement('script');\n",
       "    tag.src = uri;\n",
       "    tag.async = true;\n",
       "    tag.onload = () => {\n",
       "        exports = savedexports;\n",
       "        module = savedmodule;\n",
       "        resolve();\n",
       "    };\n",
       "  var firstScriptTag = document.getElementsByTagName('script')[0];\n",
       "  firstScriptTag.parentNode.insertBefore(tag, firstScriptTag);\n",
       "});\n",
       "};\n",
       "\n",
       "if(typeof $3Dmolpromise === 'undefined') {\n",
       "$3Dmolpromise = null;\n",
       "  $3Dmolpromise = loadScriptAsync('https://cdnjs.cloudflare.com/ajax/libs/3Dmol/2.0.1/3Dmol-min.js');\n",
       "}\n",
       "\n",
       "var viewer_16807969992109835 = null;\n",
       "var warn = document.getElementById(\"3dmolwarning_16807969992109835\");\n",
       "if(warn) {\n",
       "    warn.parentNode.removeChild(warn);\n",
       "}\n",
       "$3Dmolpromise.then(function() {\n",
       "viewer_16807969992109835 = $3Dmol.createViewer(document.getElementById(\"3dmolviewer_16807969992109835\"),{backgroundColor:\"white\"});\n",
       "viewer_16807969992109835.zoomTo();\n",
       "\tviewer_16807969992109835.addLine({\"start\": {\"x\": 0, \"y\": 0, \"z\": 0}, \"end\": {\"x\": 10, \"y\": 0, \"z\": 0}});\n",
       "\tviewer_16807969992109835.addLine({\"start\": {\"x\": 10, \"y\": 0, \"z\": 0}, \"end\": {\"x\": 10, \"y\": 10, \"z\": 0}});\n",
       "\tviewer_16807969992109835.addLine({\"start\": {\"x\": 10, \"y\": 10, \"z\": 0}, \"end\": {\"x\": 0, \"y\": 10, \"z\": 0}});\n",
       "\tviewer_16807969992109835.addLine({\"start\": {\"x\": 0, \"y\": 10, \"z\": 0}, \"end\": {\"x\": 0, \"y\": 0, \"z\": 0}});\n",
       "\tviewer_16807969992109835.addLine({\"start\": {\"x\": 0, \"y\": 0, \"z\": 0}, \"end\": {\"x\": 0, \"y\": 0, \"z\": 10}});\n",
       "\tviewer_16807969992109835.addLine({\"start\": {\"x\": 0, \"y\": 0, \"z\": 10}, \"end\": {\"x\": 10, \"y\": 0, \"z\": 10}});\n",
       "\tviewer_16807969992109835.addLine({\"start\": {\"x\": 10, \"y\": 0, \"z\": 10}, \"end\": {\"x\": 10, \"y\": 0, \"z\": 0}});\n",
       "\tviewer_16807969992109835.addLine({\"start\": {\"x\": 10, \"y\": 0, \"z\": 10}, \"end\": {\"x\": 10, \"y\": 10, \"z\": 10}});\n",
       "\tviewer_16807969992109835.addLine({\"start\": {\"x\": 10, \"y\": 10, \"z\": 10}, \"end\": {\"x\": 10, \"y\": 10, \"z\": 0}});\n",
       "\tviewer_16807969992109835.addLine({\"start\": {\"x\": 0, \"y\": 0, \"z\": 10}, \"end\": {\"x\": 0, \"y\": 10, \"z\": 10}});\n",
       "\tviewer_16807969992109835.addLine({\"start\": {\"x\": 0, \"y\": 10, \"z\": 10}, \"end\": {\"x\": 0, \"y\": 10, \"z\": 0}});\n",
       "\tviewer_16807969992109835.addLine({\"start\": {\"x\": 0, \"y\": 10, \"z\": 10}, \"end\": {\"x\": 10, \"y\": 10, \"z\": 10}});\n",
       "\tviewer_16807969992109835.addModel(\"96\\n\\nO    7.4419    2.2936    1.9887\\nO    5.9901    0.5123    0.7406\\nO    7.2249    4.2803    4.2412\\nO    2.0639    3.1562    6.9106\\nO    2.7616    2.6268    3.7575\\nO    7.7175    8.2105    -0.1175\\nO    0.4603    0.5458    4.6713\\nO    7.6839    8.4943    7.0008\\nO    -0.1573    4.0313    4.8043\\nO    0.5506    -0.1249    7.9650\\nO    5.8997    3.2040    6.2898\\nO    4.7905    7.8344    1.7281\\nO    3.2009    7.8412    4.6991\\nO    6.4996    3.1673    -0.1563\\nO    7.5340    5.6829    6.6707\\nO    0.3057    1.9357    2.3204\\nO    5.1264    5.2924    8.3600\\nO    3.3254    3.2540    0.1028\\nO    1.9304    5.2818    0.7068\\nO    2.9114    6.2091    7.5036\\nO    7.7763    0.9972    7.9489\\nO    6.6317    5.2565    1.1557\\nO    -0.0514    3.0531    -0.5778\\nO    0.5087    5.0705    8.6680\\nO    6.9848    7.0451    3.7586\\nO    2.7028    8.3242    -0.2084\\nO    1.8264    0.7503    0.4743\\nO    4.2699    1.4921    8.0857\\nO    -0.0828    7.5048    1.7200\\nO    4.5564    8.0738    6.9035\\nO    -0.1258    6.5490    5.9052\\nO    6.6623    -0.0095    3.7528\\nH    8.3959    2.0870    1.7399\\nH    6.9375    1.4720    2.1884\\nH    5.5857    -0.3782    0.9961\\nH    6.4159    0.3555    -0.1611\\nH    8.2143    4.3604    4.1216\\nH    6.9531    3.8604    3.3544\\nH    2.8864    2.5835    6.7996\\nH    2.0550    3.7106    6.0818\\nH    2.1286    2.5691    2.9612\\nH    3.6438    2.4701    3.3190\\nH    7.9480    7.8134    0.7753\\nH    6.7345    7.9867    -0.1862\\nH    1.4307    0.7684    4.7818\\nH    0.2508    0.1304    5.5557\\nH    7.3544    7.6389    6.5461\\nH    6.8993    8.9413    7.3468\\nH    0.0308    3.3265    4.1052\\nH    0.6958    4.5158    4.8945\\nH    -0.2853    -0.0969    8.5548\\nH    0.6180    0.8338    7.6701\\nH    6.3675    3.7432    5.5499\\nH    6.3278    3.4548    7.1669\\nH    4.0319    7.1995    1.6707\\nH    5.4044    7.4358    2.4223\\nH    2.9888    7.4067    3.8306\\nH    3.5339    8.7527    4.4515\\nH    5.6791    2.6575    -0.4049\\nH    6.7301    2.7553    0.7107\\nH    7.1646    4.9199    6.1831\\nH    8.0884    5.2977    7.3954\\nH    0.1828    1.1055    2.9201\\nH    0.1570    1.8658    1.3189\\nH    5.1373    6.2784    8.4058\\nH    5.2876    5.1230    7.3924\\nH    2.6845    2.4724    0.1260\\nH    3.8457    3.0396    -0.7350\\nH    1.1731    4.6520    0.5152\\nH    2.6717    4.6736    0.9808\\nH    2.1336    6.8352    7.6840\\nH    2.6614    5.4151    8.0442\\nH    7.7990    1.9534    7.6913\\nH    8.2262    0.5265    7.1792\\nH    6.1009    4.5304    0.7601\\nH    7.3348    5.2071    0.4637\\nH    0.5473    2.4091    -1.0480\\nH    -0.5190    3.5311    -1.3286\\nH    -0.0988    5.8216    8.4569\\nH    0.8725    4.6821    7.8138\\nH    6.6869    6.1038    3.8855\\nH    7.3423    7.0152    2.8342\\nH    2.5670    7.3168    -0.1091\\nH    3.5568    8.4678    0.2986\\nH    1.1309    0.8813    -0.2272\\nH    2.1883    -0.1433    0.2027\\nH    4.6396    2.0128    7.2955\\nH    4.2518    0.5195    7.8479\\nH    0.0436    8.4239    2.0913\\nH    0.3625    7.6582    0.8220\\nH    3.9102    7.3260    6.6955\\nH    5.1290    8.1890    6.0948\\nH    -0.2338    7.4921    6.1514\\nH    -0.7887    6.4034    5.1706\\nH    7.1247    -0.8631    4.0010\\nH    6.5373    -0.0947    2.7599\\n\",\"xyz\");\n",
       "\tviewer_16807969992109835.setStyle({\"sphere\": {\"radius\": 0.2}, \"stick\": {\"radius\": 0.1}});\n",
       "\tviewer_16807969992109835.zoomTo();\n",
       "\tviewer_16807969992109835.animate({\"loop\": \"forward\"});\n",
       "\tviewer_16807969992109835.render();\n",
       "viewer_16807969992109835.render();\n",
       "});\n",
       "</script>"
      ]
     },
     "metadata": {},
     "output_type": "display_data"
    }
   ],
   "source": [
    "models = \"\"\n",
    "N_H2O = 32\n",
    "\n",
    "p = py3Dmol.view(width=500,height=300)\n",
    "L = 10\n",
    "\n",
    "p.addLine({'start':{'x':0,'y':0,'z':0}, 'end':{'x':L,'y':0,'z':0}})\n",
    "p.addLine({'start':{'x':L,'y':0,'z':0}, 'end':{'x':L,'y':L,'z':0}})\n",
    "p.addLine({'start':{'x':L,'y':L,'z':0}, 'end':{'x':0,'y':L,'z':0}})\n",
    "p.addLine({'start':{'x':0,'y':L,'z':0}, 'end':{'x':0,'y':0,'z':0}})\n",
    "p.addLine({'start':{'x':0,'y':0,'z':0}, 'end':{'x':0,'y':0,'z':L}})\n",
    "p.addLine({'start':{'x':0,'y':0,'z':L}, 'end':{'x':L,'y':0,'z':L}})\n",
    "p.addLine({'start':{'x':L,'y':0,'z':L}, 'end':{'x':L,'y':0,'z':0}})\n",
    "p.addLine({'start':{'x':L,'y':0,'z':L}, 'end':{'x':L,'y':L,'z':L}})\n",
    "p.addLine({'start':{'x':L,'y':L,'z':L}, 'end':{'x':L,'y':L,'z':0}})\n",
    "p.addLine({'start':{'x':0,'y':0,'z':L}, 'end':{'x':0,'y':L,'z':L}})\n",
    "p.addLine({'start':{'x':0,'y':L,'z':L}, 'end':{'x':0,'y':L,'z':0}})\n",
    "p.addLine({'start':{'x':0,'y':L,'z':L}, 'end':{'x':L,'y':L,'z':L}})\n",
    "\n",
    "t = 0\n",
    "with open('Output/H2O.pos', 'r') as f_r:\n",
    "    while True:\n",
    "        try:\n",
    "            step = int(f_r.readline().split()[0])\n",
    "        except:\n",
    "            break\n",
    "        else:\n",
    "            poss = []\n",
    "            for i in range(N_H2O*3): \n",
    "                poss.append(f_r.readline().split())\n",
    "\n",
    "            with open('Output/H2O.xyz', 'w') as f_w:\n",
    "                print(N_H2O*3, file=f_w)\n",
    "                print('', file=f_w)\n",
    "                for i in range(N_H2O*3):\n",
    "                    at_str = 'O' if i<32 else 'H'\n",
    "                    print(f\"{at_str}    {float(poss[i][0])*0.5291:.4f}    {float(poss[i][1])*0.5291:.4f}    {float(poss[i][2])*0.5291:.4f}\", file=f_w)\n",
    "\n",
    "with open('Output/H2O.xyz', 'r') as f:\n",
    "    p.addModel(f.read(), 'xyz')\n",
    "p.setStyle({'sphere': {'radius':L/50}, 'stick':{'radius':L/100}})\n",
    "\n",
    "p.zoomTo()\n",
    "p.animate({'loop':'forward'})\n",
    "p.render()\n",
    "p.show()"
   ]
  },
  {
   "cell_type": "code",
   "execution_count": 19,
   "id": "27bd85b8",
   "metadata": {},
   "outputs": [
    {
     "data": {
      "application/3dmoljs_load.v0": "<img id=\"img_16807969992109835\">\n            <script>\n            var png = viewer_16807969992109835.pngURI()\n            document.getElementById('img_16807969992109835').src = png;\n            </script>",
      "text/html": [
       "<img id=\"img_16807969992109835\">\n",
       "            <script>\n",
       "            var png = viewer_16807969992109835.pngURI()\n",
       "            document.getElementById('img_16807969992109835').src = png;\n",
       "            </script>"
      ]
     },
     "metadata": {},
     "output_type": "display_data"
    }
   ],
   "source": [
    "p.png()"
   ]
  },
  {
   "cell_type": "code",
   "execution_count": null,
   "id": "29792b22",
   "metadata": {},
   "outputs": [],
   "source": [
    "with opne (p.png(), 'r') as f:\n",
    "    "
   ]
  }
 ],
 "metadata": {
  "kernelspec": {
   "display_name": "Python 3 (ipykernel)",
   "language": "python",
   "name": "python3"
  },
  "language_info": {
   "codemirror_mode": {
    "name": "ipython",
    "version": 3
   },
   "file_extension": ".py",
   "mimetype": "text/x-python",
   "name": "python",
   "nbconvert_exporter": "python",
   "pygments_lexer": "ipython3",
   "version": "3.10.8"
  }
 },
 "nbformat": 4,
 "nbformat_minor": 5
}
